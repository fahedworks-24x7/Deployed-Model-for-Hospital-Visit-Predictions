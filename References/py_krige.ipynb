{
 "cells": [
  {
   "cell_type": "code",
   "execution_count": null,
   "metadata": {},
   "outputs": [],
   "source": []
  },
  {
   "cell_type": "markdown",
   "metadata": {},
   "source": [
    "<font size=\"6\"> AI 724 - Statistical Techniques for Spatio-Temporal Data\n",
    "Analysis</center>          \n",
    "<br>\n",
    "\n",
    "\n",
    "<font size=\"5\">   <center> Kriging using pykrige </center>          \n",
    "<br>\n"
   ]
  },
  {
   "cell_type": "markdown",
   "metadata": {},
   "source": [
    "***Load the required libraries***"
   ]
  },
  {
   "cell_type": "markdown",
   "metadata": {},
   "source": [
    "# Ordinary Krigging and heat map generation for Geospatial data"
   ]
  },
  {
   "cell_type": "markdown",
   "metadata": {},
   "source": [
    "\n",
    "\n",
    "Processing TURF.xls"
   ]
  },
  {
   "cell_type": "code",
   "execution_count": null,
   "metadata": {},
   "outputs": [],
   "source": []
  },
  {
   "cell_type": "code",
   "execution_count": 1,
   "metadata": {},
   "outputs": [],
   "source": [
    "import pandas as pd\n",
    "import seaborn as sns\n",
    "import matplotlib.pyplot as plt\n",
    "import numpy as np\n",
    "import json\n",
    "# import folium\n",
    "# rom folium import plugins\n",
    "%matplotlib inline\n",
    "\n",
    "### Read the data \n",
    "# df=pd.read_csv(\"data.csv\")\n",
    "# df.head(3)"
   ]
  },
  {
   "cell_type": "code",
   "execution_count": 2,
   "metadata": {},
   "outputs": [
    {
     "data": {
      "text/html": [
       "<div>\n",
       "<style scoped>\n",
       "    .dataframe tbody tr th:only-of-type {\n",
       "        vertical-align: middle;\n",
       "    }\n",
       "\n",
       "    .dataframe tbody tr th {\n",
       "        vertical-align: top;\n",
       "    }\n",
       "\n",
       "    .dataframe thead th {\n",
       "        text-align: right;\n",
       "    }\n",
       "</style>\n",
       "<table border=\"1\" class=\"dataframe\">\n",
       "  <thead>\n",
       "    <tr style=\"text-align: right;\">\n",
       "      <th></th>\n",
       "      <th>Sensor</th>\n",
       "      <th>Date</th>\n",
       "      <th>Time</th>\n",
       "      <th>Ground Temp</th>\n",
       "      <th>Salinity</th>\n",
       "      <th>Dielectric</th>\n",
       "      <th>Moisture</th>\n",
       "      <th>Latitude</th>\n",
       "      <th>Longtitude</th>\n",
       "      <th>Type</th>\n",
       "    </tr>\n",
       "  </thead>\n",
       "  <tbody>\n",
       "    <tr>\n",
       "      <th>0</th>\n",
       "      <td>G1A0000333_18GFC</td>\n",
       "      <td>July 12th 2021</td>\n",
       "      <td>11:59 AM</td>\n",
       "      <td>8 °C</td>\n",
       "      <td>0.3 dS/m</td>\n",
       "      <td>9 V/m</td>\n",
       "      <td>18%</td>\n",
       "      <td>-41.138691</td>\n",
       "      <td>175.020691</td>\n",
       "      <td>NaN</td>\n",
       "    </tr>\n",
       "    <tr>\n",
       "      <th>1</th>\n",
       "      <td>G1A0000338_18GBL</td>\n",
       "      <td>July 12th 2021</td>\n",
       "      <td>12:02 PM</td>\n",
       "      <td>7 °C</td>\n",
       "      <td>0.5 dS/m</td>\n",
       "      <td>7 V/m</td>\n",
       "      <td>15%</td>\n",
       "      <td>-41.139042</td>\n",
       "      <td>175.020737</td>\n",
       "      <td>NaN</td>\n",
       "    </tr>\n",
       "    <tr>\n",
       "      <th>2</th>\n",
       "      <td>G1A0000345_ 17GBC</td>\n",
       "      <td>July 12th 2021</td>\n",
       "      <td>12:02 PM</td>\n",
       "      <td>7 °C</td>\n",
       "      <td>0.3 dS/m</td>\n",
       "      <td>7 V/m</td>\n",
       "      <td>15%</td>\n",
       "      <td>-41.135422</td>\n",
       "      <td>175.024002</td>\n",
       "      <td>NaN</td>\n",
       "    </tr>\n",
       "    <tr>\n",
       "      <th>3</th>\n",
       "      <td>G1A0000347_ 13GBL</td>\n",
       "      <td>July 12th 2021</td>\n",
       "      <td>12:05 PM</td>\n",
       "      <td>8 °C</td>\n",
       "      <td>0.5 dS/m</td>\n",
       "      <td>7 V/m</td>\n",
       "      <td>15%</td>\n",
       "      <td>-41.137749</td>\n",
       "      <td>175.017578</td>\n",
       "      <td>Creeping Bentgrass</td>\n",
       "    </tr>\n",
       "    <tr>\n",
       "      <th>4</th>\n",
       "      <td>G1A0000353_ 2GFC</td>\n",
       "      <td>July 12th 2021</td>\n",
       "      <td>12:00 PM</td>\n",
       "      <td>7 °C</td>\n",
       "      <td>0.6 dS/m</td>\n",
       "      <td>12 V/m</td>\n",
       "      <td>24%</td>\n",
       "      <td>-41.139885</td>\n",
       "      <td>175.012894</td>\n",
       "      <td>Creeping Bentgrass</td>\n",
       "    </tr>\n",
       "  </tbody>\n",
       "</table>\n",
       "</div>"
      ],
      "text/plain": [
       "              Sensor            Date      Time Ground Temp  Salinity  \\\n",
       "0   G1A0000333_18GFC  July 12th 2021  11:59 AM        8 °C  0.3 dS/m   \n",
       "1   G1A0000338_18GBL  July 12th 2021  12:02 PM        7 °C  0.5 dS/m   \n",
       "2  G1A0000345_ 17GBC  July 12th 2021  12:02 PM        7 °C  0.3 dS/m   \n",
       "3  G1A0000347_ 13GBL  July 12th 2021  12:05 PM        8 °C  0.5 dS/m   \n",
       "4   G1A0000353_ 2GFC  July 12th 2021  12:00 PM        7 °C  0.6 dS/m   \n",
       "\n",
       "  Dielectric Moisture   Latitude  Longtitude                Type  \n",
       "0      9 V/m      18% -41.138691  175.020691                 NaN  \n",
       "1      7 V/m      15% -41.139042  175.020737                 NaN  \n",
       "2      7 V/m      15% -41.135422  175.024002                 NaN  \n",
       "3      7 V/m      15% -41.137749  175.017578  Creeping Bentgrass  \n",
       "4     12 V/m      24% -41.139885  175.012894  Creeping Bentgrass  "
      ]
     },
     "execution_count": 2,
     "metadata": {},
     "output_type": "execute_result"
    }
   ],
   "source": [
    "\n",
    "\n",
    "df = pd.read_csv('Turf.csv')\n",
    "df.head()\n",
    "     \n"
   ]
  },
  {
   "cell_type": "code",
   "execution_count": 4,
   "metadata": {},
   "outputs": [
    {
     "name": "stdout",
     "output_type": "stream",
     "text": [
      "[[9.999999999999998 13.046984622138865 15.791352631690998\n",
      "  18.148774655618773 19.999999999999996 25.592198356287675]\n",
      " [13.826895594736753 16.06272790846117 18.86942074884196\n",
      "  21.752077776866585 25.23851139494591 30.098616714364965]\n",
      " [17.563933402011397 19.863611824373436 22.71120526959928\n",
      "  25.878181684084108 29.67844495460107 34.455139734756926]\n",
      " [20.99220723851321 23.563940166591014 26.532669353205016\n",
      "  29.466919415145604 32.763158030261806 36.49635485777304]]\n"
     ]
    }
   ],
   "source": [
    "from pykrige.ok import OrdinaryKriging\n",
    "import numpy as np\n",
    "\n",
    "# Define data points\n",
    "x = [0.0, 2.0, 1.0, 3.0]\n",
    "y = [0.0, 0.0, 2.0, 1.0]\n",
    "z = [10.0, 20.0, 30.0, 40.0]\n",
    "\n",
    "# Define grid\n",
    "gridx = np.arange(0.0, 3.0, 0.5)\n",
    "gridy = np.arange(0.0, 2.0, 0.5)\n",
    "\n",
    "# Perform ordinary kriging\n",
    "OK = OrdinaryKriging(x, y, z, variogram_model='linear')\n",
    "z_interp, sigma = OK.execute('grid', gridx, gridy)\n",
    "\n",
    "# Print results\n",
    "print(z_interp)"
   ]
  },
  {
   "cell_type": "code",
   "execution_count": 6,
   "metadata": {},
   "outputs": [],
   "source": [
    "\n",
    "\n",
    "lats=df['Latitude']\n",
    "lons=df['Longtitude']"
   ]
  },
  {
   "cell_type": "code",
   "execution_count": 7,
   "metadata": {},
   "outputs": [],
   "source": [
    "df['Moisture'] = [int(s.replace(\"%\", \"\")) for s in df['Moisture']]"
   ]
  },
  {
   "cell_type": "code",
   "execution_count": 8,
   "metadata": {},
   "outputs": [],
   "source": [
    "val = df['Moisture']"
   ]
  },
  {
   "cell_type": "code",
   "execution_count": 9,
   "metadata": {},
   "outputs": [
    {
     "data": {
      "text/html": [
       "<div>\n",
       "<style scoped>\n",
       "    .dataframe tbody tr th:only-of-type {\n",
       "        vertical-align: middle;\n",
       "    }\n",
       "\n",
       "    .dataframe tbody tr th {\n",
       "        vertical-align: top;\n",
       "    }\n",
       "\n",
       "    .dataframe thead th {\n",
       "        text-align: right;\n",
       "    }\n",
       "</style>\n",
       "<table border=\"1\" class=\"dataframe\">\n",
       "  <thead>\n",
       "    <tr style=\"text-align: right;\">\n",
       "      <th></th>\n",
       "      <th>Sensor</th>\n",
       "      <th>Date</th>\n",
       "      <th>Time</th>\n",
       "      <th>Ground Temp</th>\n",
       "      <th>Salinity</th>\n",
       "      <th>Dielectric</th>\n",
       "      <th>Moisture</th>\n",
       "      <th>Latitude</th>\n",
       "      <th>Longtitude</th>\n",
       "      <th>Type</th>\n",
       "    </tr>\n",
       "  </thead>\n",
       "  <tbody>\n",
       "    <tr>\n",
       "      <th>0</th>\n",
       "      <td>G1A0000333_18GFC</td>\n",
       "      <td>July 12th 2021</td>\n",
       "      <td>11:59 AM</td>\n",
       "      <td>8 °C</td>\n",
       "      <td>0.3 dS/m</td>\n",
       "      <td>9 V/m</td>\n",
       "      <td>18</td>\n",
       "      <td>-41.138691</td>\n",
       "      <td>175.020691</td>\n",
       "      <td>NaN</td>\n",
       "    </tr>\n",
       "    <tr>\n",
       "      <th>1</th>\n",
       "      <td>G1A0000338_18GBL</td>\n",
       "      <td>July 12th 2021</td>\n",
       "      <td>12:02 PM</td>\n",
       "      <td>7 °C</td>\n",
       "      <td>0.5 dS/m</td>\n",
       "      <td>7 V/m</td>\n",
       "      <td>15</td>\n",
       "      <td>-41.139042</td>\n",
       "      <td>175.020737</td>\n",
       "      <td>NaN</td>\n",
       "    </tr>\n",
       "    <tr>\n",
       "      <th>2</th>\n",
       "      <td>G1A0000345_ 17GBC</td>\n",
       "      <td>July 12th 2021</td>\n",
       "      <td>12:02 PM</td>\n",
       "      <td>7 °C</td>\n",
       "      <td>0.3 dS/m</td>\n",
       "      <td>7 V/m</td>\n",
       "      <td>15</td>\n",
       "      <td>-41.135422</td>\n",
       "      <td>175.024002</td>\n",
       "      <td>NaN</td>\n",
       "    </tr>\n",
       "    <tr>\n",
       "      <th>3</th>\n",
       "      <td>G1A0000347_ 13GBL</td>\n",
       "      <td>July 12th 2021</td>\n",
       "      <td>12:05 PM</td>\n",
       "      <td>8 °C</td>\n",
       "      <td>0.5 dS/m</td>\n",
       "      <td>7 V/m</td>\n",
       "      <td>15</td>\n",
       "      <td>-41.137749</td>\n",
       "      <td>175.017578</td>\n",
       "      <td>Creeping Bentgrass</td>\n",
       "    </tr>\n",
       "    <tr>\n",
       "      <th>4</th>\n",
       "      <td>G1A0000353_ 2GFC</td>\n",
       "      <td>July 12th 2021</td>\n",
       "      <td>12:00 PM</td>\n",
       "      <td>7 °C</td>\n",
       "      <td>0.6 dS/m</td>\n",
       "      <td>12 V/m</td>\n",
       "      <td>24</td>\n",
       "      <td>-41.139885</td>\n",
       "      <td>175.012894</td>\n",
       "      <td>Creeping Bentgrass</td>\n",
       "    </tr>\n",
       "    <tr>\n",
       "      <th>5</th>\n",
       "      <td>G1A0000354_16GBR</td>\n",
       "      <td>July 12th 2021</td>\n",
       "      <td>12:04 PM</td>\n",
       "      <td>7 °C</td>\n",
       "      <td>0.6 dS/m</td>\n",
       "      <td>8 V/m</td>\n",
       "      <td>16</td>\n",
       "      <td>-41.131798</td>\n",
       "      <td>175.023636</td>\n",
       "      <td>Creeping Bentgrass</td>\n",
       "    </tr>\n",
       "  </tbody>\n",
       "</table>\n",
       "</div>"
      ],
      "text/plain": [
       "              Sensor            Date      Time Ground Temp  Salinity  \\\n",
       "0   G1A0000333_18GFC  July 12th 2021  11:59 AM        8 °C  0.3 dS/m   \n",
       "1   G1A0000338_18GBL  July 12th 2021  12:02 PM        7 °C  0.5 dS/m   \n",
       "2  G1A0000345_ 17GBC  July 12th 2021  12:02 PM        7 °C  0.3 dS/m   \n",
       "3  G1A0000347_ 13GBL  July 12th 2021  12:05 PM        8 °C  0.5 dS/m   \n",
       "4   G1A0000353_ 2GFC  July 12th 2021  12:00 PM        7 °C  0.6 dS/m   \n",
       "5   G1A0000354_16GBR  July 12th 2021  12:04 PM        7 °C  0.6 dS/m   \n",
       "\n",
       "  Dielectric  Moisture   Latitude  Longtitude                Type  \n",
       "0      9 V/m        18 -41.138691  175.020691                 NaN  \n",
       "1      7 V/m        15 -41.139042  175.020737                 NaN  \n",
       "2      7 V/m        15 -41.135422  175.024002                 NaN  \n",
       "3      7 V/m        15 -41.137749  175.017578  Creeping Bentgrass  \n",
       "4     12 V/m        24 -41.139885  175.012894  Creeping Bentgrass  \n",
       "5      8 V/m        16 -41.131798  175.023636  Creeping Bentgrass  "
      ]
     },
     "execution_count": 9,
     "metadata": {},
     "output_type": "execute_result"
    }
   ],
   "source": [
    "df.head(6)"
   ]
  },
  {
   "cell_type": "code",
   "execution_count": 10,
   "metadata": {},
   "outputs": [],
   "source": [
    "# Define the grid on which to interpolate\n",
    "grid_lon = np.linspace(min(lons), max(lons), 100)\n",
    "grid_lat = np.linspace(min(lats), max(lats), 100)"
   ]
  },
  {
   "cell_type": "code",
   "execution_count": 11,
   "metadata": {},
   "outputs": [],
   "source": [
    "OK = OrdinaryKriging(lons, lats, val, variogram_model='linear',\n",
    "                     verbose=False, enable_plotting=False)"
   ]
  },
  {
   "cell_type": "code",
   "execution_count": 12,
   "metadata": {},
   "outputs": [],
   "source": [
    "\n",
    "# Interpolate the grid\n",
    "z, ss = OK.execute('grid', grid_lon, grid_lat)"
   ]
  },
  {
   "cell_type": "code",
   "execution_count": 13,
   "metadata": {},
   "outputs": [
    {
     "data": {
      "image/png": "[encoded data removed]",
      "text/plain": [
       "<Figure size 432x288 with 2 Axes>"
      ]
     },
     "metadata": {
      "needs_background": "light"
     },
     "output_type": "display_data"
    }
   ],
   "source": [
    "import matplotlib.pyplot as plt\n",
    "\n",
    "# Create a heatmap of the interpolated values\n",
    "plt.imshow(z.T, origin='lower', extent=[min(grid_lon), max(grid_lon), min(grid_lat), max(grid_lat)])\n",
    "plt.colorbar()\n",
    "plt.xlabel('Longitude')\n",
    "plt.ylabel('Latitude')\n",
    "plt.title('Interpolated Heatmap')\n",
    "plt.show()"
   ]
  },
  {
   "cell_type": "markdown",
   "metadata": {},
   "source": [
    "In the imshow function call  z.T refers to the transpose of the interpolated values z.\n",
    "\n",
    "The reason for transposing z is that the imshow function expects the input to be in row-major order, while OrdinaryKriging.execute returns the interpolated values in column-major order. Transposing z flips the rows and columns, so that the values are in the correct order for imshow.\n",
    "\n",
    "By specifying origin='lower' in the imshow function call, we're indicating that the (0, 0) coordinate should be located at the bottom-left corner of the plot. This is a common convention for plotting two-dimensional arrays, with the first index (i.e., the row number) corresponding to the y-axis, and the second index (i.e., the column number) corresponding to the x-axis."
   ]
  },
  {
   "cell_type": "code",
   "execution_count": 12,
   "metadata": {},
   "outputs": [
    {
     "data": {
      "text/plain": [
       "masked_array(\n",
       "  data=[[17.833333333333435, 17.833333333333425, 17.833333333333425, ...,\n",
       "         17.833333333333353, 17.833333333333357, 17.83333333333336],\n",
       "        [17.833333333333442, 17.833333333333425, 17.833333333333417, ...,\n",
       "         17.833333333333353, 17.833333333333353, 17.833333333333357],\n",
       "        [17.83333333333343, 17.83333333333344, 17.833333333333417, ...,\n",
       "         17.83333333333335, 17.83333333333335, 17.833333333333353],\n",
       "        ...,\n",
       "        [17.833333333333396, 17.833333333333393, 17.833333333333382, ...,\n",
       "         17.83333333333333, 17.83333333333332, 17.833333333333314],\n",
       "        [17.833333333333396, 17.83333333333339, 17.833333333333393, ...,\n",
       "         17.83333333333333, 17.833333333333318, 17.83333333333331],\n",
       "        [17.8333333333334, 17.83333333333339, 17.83333333333339, ...,\n",
       "         17.83333333333332, 17.833333333333307, 17.833333333333318]],\n",
       "  mask=[[False, False, False, ..., False, False, False],\n",
       "        [False, False, False, ..., False, False, False],\n",
       "        [False, False, False, ..., False, False, False],\n",
       "        ...,\n",
       "        [False, False, False, ..., False, False, False],\n",
       "        [False, False, False, ..., False, False, False],\n",
       "        [False, False, False, ..., False, False, False]],\n",
       "  fill_value=1e+20)"
      ]
     },
     "execution_count": 12,
     "metadata": {},
     "output_type": "execute_result"
    }
   ],
   "source": [
    "z"
   ]
  },
  {
   "cell_type": "code",
   "execution_count": 13,
   "metadata": {},
   "outputs": [
    {
     "name": "stdout",
     "output_type": "stream",
     "text": [
      "[[17.833333333333435 17.833333333333425 17.833333333333425 ...\n",
      "  17.833333333333353 17.833333333333357 17.83333333333336]\n",
      " [17.833333333333442 17.833333333333425 17.833333333333417 ...\n",
      "  17.833333333333353 17.833333333333353 17.833333333333357]\n",
      " [17.83333333333343 17.83333333333344 17.833333333333417 ...\n",
      "  17.83333333333335 17.83333333333335 17.833333333333353]\n",
      " ...\n",
      " [17.833333333333396 17.833333333333393 17.833333333333382 ...\n",
      "  17.83333333333333 17.83333333333332 17.833333333333314]\n",
      " [17.833333333333396 17.83333333333339 17.833333333333393 ...\n",
      "  17.83333333333333 17.833333333333318 17.83333333333331]\n",
      " [17.8333333333334 17.83333333333339 17.83333333333339 ...\n",
      "  17.83333333333332 17.833333333333307 17.833333333333318]]\n"
     ]
    }
   ],
   "source": [
    "print(z)"
   ]
  },
  {
   "cell_type": "markdown",
   "metadata": {},
   "source": [
    "# Universal Kriging example"
   ]
  },
  {
   "cell_type": "code",
   "execution_count": 14,
   "metadata": {},
   "outputs": [],
   "source": [
    "from pykrige.uk import UniversalKriging\n"
   ]
  },
  {
   "cell_type": "code",
   "execution_count": 15,
   "metadata": {},
   "outputs": [
    {
     "data": {
      "image/png": "[encoded data removed]",
      "text/plain": [
       "<Figure size 432x288 with 1 Axes>"
      ]
     },
     "metadata": {
      "needs_background": "light"
     },
     "output_type": "display_data"
    }
   ],
   "source": [
    "\"\"\"\n",
    "Universal Kriging Example\n",
    "=========================\n",
    "In this example we apply a regional linear trend to the kriging system.\n",
    "\"\"\"\n",
    "\n",
    "import matplotlib.pyplot as plt\n",
    "import numpy as np\n",
    "\n",
    "from pykrige.uk import UniversalKriging\n",
    "\n",
    "data = np.array(\n",
    "    [\n",
    "        [0.3, 1.2, 0.47],\n",
    "        [1.9, 0.6, 0.56],\n",
    "        [1.1, 3.2, 0.74],\n",
    "        [3.3, 4.4, 1.47],\n",
    "        [4.7, 3.8, 1.74],\n",
    "    ]\n",
    ")\n",
    "\n",
    "gridx = np.arange(0.0, 5.5, 0.5)\n",
    "gridy = np.arange(0.0, 5.5, 0.5)\n",
    "\n",
    "###############################################################################\n",
    "# Create the universal kriging object. Required inputs are the X-coordinates of\n",
    "# the data points, the Y-coordinates of the data points, and the Z-values of the\n",
    "# data points. Variogram is handled as in the ordinary kriging case.\n",
    "# drift_terms is a list of the drift terms to include; currently supported terms\n",
    "# are 'regional_linear', 'point_log', and 'external_Z'. Refer to\n",
    "# UniversalKriging.__doc__ for more information.\n",
    "\n",
    "UK = UniversalKriging(\n",
    "    data[:, 0],\n",
    "    data[:, 1],\n",
    "    data[:, 2],\n",
    "    variogram_model=\"linear\",\n",
    "    drift_terms=[\"regional_linear\"],\n",
    ")\n",
    "\n",
    "###############################################################################\n",
    "# Creates the kriged grid and the variance grid. Allows for kriging on a rectangular\n",
    "# grid of points, on a masked rectangular grid of points, or with arbitrary points.\n",
    "# (See UniversalKriging.__doc__ for more information.)\n",
    "\n",
    "z, ss = UK.execute(\"grid\", gridx, gridy)\n",
    "plt.imshow(z)\n",
    "plt.show()"
   ]
  },
  {
   "cell_type": "markdown",
   "metadata": {},
   "source": [
    "# Universal Kriging example"
   ]
  },
  {
   "cell_type": "code",
   "execution_count": 16,
   "metadata": {},
   "outputs": [
    {
     "name": "stdout",
     "output_type": "stream",
     "text": [
      "Original data:\n",
      "Longitude: [122 166  92 138  86 122 136]\n",
      "Latitude:  [-46 -36 -25 -73 -25  50 -29]\n",
      "z:         [2.75 3.36 2.24 3.07 3.37 5.25 2.82]\n",
      "\n",
      "Krige at 60° latitude:\n",
      "======================\n",
      "Longitude: [  0.  60. 120. 180. 240. 300. 360.]\n",
      "Value:     [5.29 5.11 5.27 5.17 5.35 5.63 5.29]\n",
      "Sigma²:    [2.22 1.32 0.42 1.21 2.07 2.48 2.22]\n",
      "\n",
      "Ignoring curvature:\n",
      "=====================\n",
      "Value:     [4.55 4.72 5.25 4.82 4.61 4.53 4.48]\n",
      "Sigma²:    [3.79 2.   0.39 1.85 3.54 5.46 7.53]\n"
     ]
    },
    {
     "data": {
      "image/png": "[encoded data removed]",
      "text/plain": [
       "<Figure size 432x288 with 2 Axes>"
      ]
     },
     "metadata": {
      "needs_background": "light"
     },
     "output_type": "display_data"
    }
   ],
   "source": [
    "# -*- coding: utf-8 -*-\n",
    "\"\"\"\n",
    "Geometric example\n",
    "=================\n",
    "A small example script showing the usage of the 'geographic' coordinates type\n",
    "for ordinary kriging on a sphere.\n",
    "\"\"\"\n",
    "\n",
    "import numpy as np\n",
    "from matplotlib import pyplot as plt\n",
    "\n",
    "from pykrige.ok import OrdinaryKriging\n",
    "\n",
    "# Make this example reproducible:\n",
    "np.random.seed(89239413)\n",
    "\n",
    "# Generate random data following a uniform spatial distribution\n",
    "# of nodes and a uniform distribution of values in the interval\n",
    "# [2.0, 5.5]:\n",
    "N = 7\n",
    "lon = 360.0 * np.random.random(N)\n",
    "lat = 180.0 / np.pi * np.arcsin(2 * np.random.random(N) - 1)\n",
    "z = 3.5 * np.random.rand(N) + 2.0\n",
    "\n",
    "# Generate a regular grid with 60° longitude and 30° latitude steps:\n",
    "grid_lon = np.linspace(0.0, 360.0, 7)\n",
    "grid_lat = np.linspace(-90.0, 90.0, 7)\n",
    "\n",
    "# Create ordinary kriging object:\n",
    "OK = OrdinaryKriging(\n",
    "    lon,\n",
    "    lat,\n",
    "    z,\n",
    "    variogram_model=\"linear\",\n",
    "    verbose=False,\n",
    "    enable_plotting=False,\n",
    "    coordinates_type=\"geographic\",\n",
    ")\n",
    "\n",
    "# Execute on grid:\n",
    "z1, ss1 = OK.execute(\"grid\", grid_lon, grid_lat)\n",
    "\n",
    "# Create ordinary kriging object ignoring curvature:\n",
    "OK = OrdinaryKriging(\n",
    "    lon, lat, z, variogram_model=\"linear\", verbose=False, enable_plotting=False\n",
    ")\n",
    "\n",
    "# Execute on grid:\n",
    "z2, ss2 = OK.execute(\"grid\", grid_lon, grid_lat)\n",
    "\n",
    "###############################################################################\n",
    "# Print data at equator (last longitude index will show periodicity):\n",
    "\n",
    "print(\"Original data:\")\n",
    "print(\"Longitude:\", lon.astype(int))\n",
    "print(\"Latitude: \", lat.astype(int))\n",
    "print(\"z:        \", np.array_str(z, precision=2))\n",
    "print(\"\\nKrige at 60° latitude:\\n======================\")\n",
    "print(\"Longitude:\", grid_lon)\n",
    "print(\"Value:    \", np.array_str(z1[5, :], precision=2))\n",
    "print(\"Sigma²:   \", np.array_str(ss1[5, :], precision=2))\n",
    "print(\"\\nIgnoring curvature:\\n=====================\")\n",
    "print(\"Value:    \", np.array_str(z2[5, :], precision=2))\n",
    "print(\"Sigma²:   \", np.array_str(ss2[5, :], precision=2))\n",
    "\n",
    "###############################################################################\n",
    "# We can see that the data point at longitude 122, latitude 50 correctly\n",
    "# dominates the kriged results, since it is the closest node in spherical\n",
    "# distance metric, as longitude differences scale with cos(latitude).\n",
    "# When kriging using longitude / latitude linearly, the value for grid points\n",
    "# with longitude values further away as longitude is now incorrectly\n",
    "# weighted equally as latitude.\n",
    "\n",
    "fig, (ax1, ax2) = plt.subplots(1, 2)\n",
    "ax1.imshow(z1, extent=[0, 360, -90, 90], origin=\"lower\")\n",
    "ax1.set_title(\"geo-coordinates\")\n",
    "ax2.imshow(z2, extent=[0, 360, -90, 90], origin=\"lower\")\n",
    "ax2.set_title(\"non geo-coordinates\")\n",
    "plt.show()"
   ]
  },
  {
   "cell_type": "markdown",
   "metadata": {},
   "source": [
    "# Ordinary Kriging example"
   ]
  },
  {
   "cell_type": "code",
   "execution_count": 17,
   "metadata": {},
   "outputs": [
    {
     "data": {
      "image/png": "[encoded data removed]",
      "text/plain": [
       "<Figure size 432x288 with 2 Axes>"
      ]
     },
     "metadata": {
      "needs_background": "light"
     },
     "output_type": "display_data"
    }
   ],
   "source": [
    "import numpy as np\n",
    "import matplotlib.pyplot as plt\n",
    "from pykrige import OrdinaryKriging\n",
    "\n",
    "# Define your x, y, and z data\n",
    "x = np.array([1, 2, 3, 4, 5])\n",
    "y = np.array([1, 2, 3, 4, 5])\n",
    "z = np.array([0.2, 0.3, 0.5, 0.8, 1.0])\n",
    "\n",
    "# Define the grid of points at which to estimate values\n",
    "gridx = np.linspace(0, 6, 60)\n",
    "gridy = np.linspace(0, 6, 60)\n",
    "\n",
    "# Create the kriging object\n",
    "OK = OrdinaryKriging(x, y, z, variogram_model='linear',\n",
    "                     verbose=False, enable_plotting=False)\n",
    "\n",
    "# Estimate the values at the grid points\n",
    "z_interp, sigmasq = OK.execute('grid', gridx, gridy)\n",
    "\n",
    "# Generate heatmap\n",
    "fig, ax = plt.subplots()\n",
    "im = ax.imshow(z_interp, cmap='viridis', origin='lower')\n",
    "\n",
    "# Add colorbar\n",
    "cbar = ax.figure.colorbar(im, ax=ax)\n",
    "\n",
    "# Add title and labels\n",
    "ax.set_title('Kriging Heatmap')\n",
    "ax.set_xlabel('X')\n",
    "ax.set_ylabel('Y')\n",
    "\n",
    "# Define ticks and tick labels\n",
    "xticks = np.arange(0, 60, 10)\n",
    "yticks = np.arange(0, 60, 10)\n",
    "ax.set_xticks(xticks)\n",
    "ax.set_yticks(yticks)\n",
    "ax.set_xticklabels(np.round(gridx[xticks], 2))\n",
    "ax.set_yticklabels(np.round(gridy[yticks], 2))\n",
    "\n",
    "# Rotate the tick labels and set their alignment\n",
    "plt.setp(ax.get_xticklabels(), rotation=45, ha=\"right\",\n",
    "         rotation_mode=\"anchor\")\n",
    "\n",
    "# Show the plot\n",
    "plt.show()"
   ]
  }
 ],
 "metadata": {
  "hide_input": false,
  "kernelspec": {
   "display_name": "Python 3",
   "language": "python",
   "name": "python3"
  },
  "language_info": {
   "codemirror_mode": {
    "name": "ipython",
    "version": 3
   },
   "file_extension": ".py",
   "mimetype": "text/x-python",
   "name": "python",
   "nbconvert_exporter": "python",
   "pygments_lexer": "ipython3",
   "version": "3.7.12"
  },
  "latex_envs": {
   "LaTeX_envs_menu_present": true,
   "autoclose": false,
   "autocomplete": true,
   "bibliofile": "biblio.bib",
   "cite_by": "apalike",
   "current_citInitial": 1,
   "eqLabelWithNumbers": true,
   "eqNumInitial": 1,
   "hotkeys": {
    "equation": "Ctrl-E",
    "itemize": "Ctrl-I"
   },
   "labels_anchors": false,
   "latex_user_defs": false,
   "report_style_numbering": false,
   "user_envs_cfg": false
  },
  "toc": {
   "base_numbering": 1,
   "nav_menu": {},
   "number_sections": true,
   "sideBar": true,
   "skip_h1_title": false,
   "title_cell": "Table of Contents",
   "title_sidebar": "Contents",
   "toc_cell": false,
   "toc_position": {},
   "toc_section_display": true,
   "toc_window_display": false
  },
  "varInspector": {
   "cols": {
    "lenName": 16,
    "lenType": 16,
    "lenVar": 40
   },
   "kernels_config": {
    "python": {
     "delete_cmd_postfix": "",
     "delete_cmd_prefix": "del ",
     "library": "var_list.py",
     "varRefreshCmd": "print(var_dic_list())"
    },
    "r": {
     "delete_cmd_postfix": ") ",
     "delete_cmd_prefix": "rm(",
     "library": "var_list.r",
     "varRefreshCmd": "cat(var_dic_list()) "
    }
   },
   "types_to_exclude": [
    "module",
    "function",
    "builtin_function_or_method",
    "instance",
    "_Feature"
   ],
   "window_display": false
  }
 },
 "nbformat": 4,
 "nbformat_minor": 2
}
