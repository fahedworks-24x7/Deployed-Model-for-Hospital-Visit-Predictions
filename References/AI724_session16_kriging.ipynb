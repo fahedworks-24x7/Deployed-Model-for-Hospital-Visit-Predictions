{
 "cells": [
  {
   "cell_type": "code",
   "execution_count": null,
   "metadata": {},
   "outputs": [],
   "source": []
  },
  {
   "cell_type": "markdown",
   "metadata": {},
   "source": [
    "<font size=\"6\"> AI 724 - Statistical Techniques for Spatio-Temporal Data\n",
    "Analysis</center>          \n",
    "<br>\n",
    "\n",
    "\n",
    "<font size=\"5\">   <center> Lecture 3 : Time series preprocessing and Time series Decomposition</center>          \n",
    "<br>\n"
   ]
  },
  {
   "cell_type": "markdown",
   "metadata": {},
   "source": [
    "In this exercise we shall carryout Time series preprocessing ad time series decomposition. \n",
    "The dataset used is the Airline passenger dataset"
   ]
  },
  {
   "cell_type": "markdown",
   "metadata": {},
   "source": [
    "***Load the required libraries***"
   ]
  },
  {
   "cell_type": "markdown",
   "metadata": {},
   "source": [
    "# Ordinary Krigging and heat map generation for Geospatial data"
   ]
  },
  {
   "cell_type": "code",
   "execution_count": null,
   "metadata": {},
   "outputs": [],
   "source": [
    "\n",
    "\n",
    "Processing TURF.xls"
   ]
  },
  {
   "cell_type": "code",
   "execution_count": null,
   "metadata": {},
   "outputs": [],
   "source": []
  },
  {
   "cell_type": "code",
   "execution_count": 8,
   "metadata": {},
   "outputs": [],
   "source": [
    "import pandas as pd\n",
    "import seaborn as sns\n",
    "import matplotlib.pyplot as plt\n",
    "import numpy as np\n",
    "import json\n",
    "# import folium\n",
    "# rom folium import plugins\n",
    "%matplotlib inline\n",
    "\n",
    "### Read the data \n",
    "# df=pd.read_csv(\"data.csv\")\n",
    "# df.head(3)"
   ]
  },
  {
   "cell_type": "code",
   "execution_count": 9,
   "metadata": {},
   "outputs": [
    {
     "data": {
      "text/html": [
       "<div>\n",
       "<style scoped>\n",
       "    .dataframe tbody tr th:only-of-type {\n",
       "        vertical-align: middle;\n",
       "    }\n",
       "\n",
       "    .dataframe tbody tr th {\n",
       "        vertical-align: top;\n",
       "    }\n",
       "\n",
       "    .dataframe thead th {\n",
       "        text-align: right;\n",
       "    }\n",
       "</style>\n",
       "<table border=\"1\" class=\"dataframe\">\n",
       "  <thead>\n",
       "    <tr style=\"text-align: right;\">\n",
       "      <th></th>\n",
       "      <th>Sensor</th>\n",
       "      <th>Date</th>\n",
       "      <th>Time</th>\n",
       "      <th>Ground Temp</th>\n",
       "      <th>Salinity</th>\n",
       "      <th>Dielectric</th>\n",
       "      <th>Moisture</th>\n",
       "      <th>Latitude</th>\n",
       "      <th>Longtitude</th>\n",
       "      <th>Type</th>\n",
       "    </tr>\n",
       "  </thead>\n",
       "  <tbody>\n",
       "    <tr>\n",
       "      <th>0</th>\n",
       "      <td>G1A0000333_18GFC</td>\n",
       "      <td>July 12th 2021</td>\n",
       "      <td>11:59 AM</td>\n",
       "      <td>8 °C</td>\n",
       "      <td>0.3 dS/m</td>\n",
       "      <td>9 V/m</td>\n",
       "      <td>18%</td>\n",
       "      <td>-41.138691</td>\n",
       "      <td>175.020691</td>\n",
       "      <td>NaN</td>\n",
       "    </tr>\n",
       "    <tr>\n",
       "      <th>1</th>\n",
       "      <td>G1A0000338_18GBL</td>\n",
       "      <td>July 12th 2021</td>\n",
       "      <td>12:02 PM</td>\n",
       "      <td>7 °C</td>\n",
       "      <td>0.5 dS/m</td>\n",
       "      <td>7 V/m</td>\n",
       "      <td>15%</td>\n",
       "      <td>-41.139042</td>\n",
       "      <td>175.020737</td>\n",
       "      <td>NaN</td>\n",
       "    </tr>\n",
       "    <tr>\n",
       "      <th>2</th>\n",
       "      <td>G1A0000345_ 17GBC</td>\n",
       "      <td>July 12th 2021</td>\n",
       "      <td>12:02 PM</td>\n",
       "      <td>7 °C</td>\n",
       "      <td>0.3 dS/m</td>\n",
       "      <td>7 V/m</td>\n",
       "      <td>15%</td>\n",
       "      <td>-41.135422</td>\n",
       "      <td>175.024002</td>\n",
       "      <td>NaN</td>\n",
       "    </tr>\n",
       "    <tr>\n",
       "      <th>3</th>\n",
       "      <td>G1A0000347_ 13GBL</td>\n",
       "      <td>July 12th 2021</td>\n",
       "      <td>12:05 PM</td>\n",
       "      <td>8 °C</td>\n",
       "      <td>0.5 dS/m</td>\n",
       "      <td>7 V/m</td>\n",
       "      <td>15%</td>\n",
       "      <td>-41.137749</td>\n",
       "      <td>175.017578</td>\n",
       "      <td>Creeping Bentgrass</td>\n",
       "    </tr>\n",
       "    <tr>\n",
       "      <th>4</th>\n",
       "      <td>G1A0000353_ 2GFC</td>\n",
       "      <td>July 12th 2021</td>\n",
       "      <td>12:00 PM</td>\n",
       "      <td>7 °C</td>\n",
       "      <td>0.6 dS/m</td>\n",
       "      <td>12 V/m</td>\n",
       "      <td>24%</td>\n",
       "      <td>-41.139885</td>\n",
       "      <td>175.012894</td>\n",
       "      <td>Creeping Bentgrass</td>\n",
       "    </tr>\n",
       "  </tbody>\n",
       "</table>\n",
       "</div>"
      ],
      "text/plain": [
       "              Sensor            Date      Time Ground Temp  Salinity  \\\n",
       "0   G1A0000333_18GFC  July 12th 2021  11:59 AM        8 °C  0.3 dS/m   \n",
       "1   G1A0000338_18GBL  July 12th 2021  12:02 PM        7 °C  0.5 dS/m   \n",
       "2  G1A0000345_ 17GBC  July 12th 2021  12:02 PM        7 °C  0.3 dS/m   \n",
       "3  G1A0000347_ 13GBL  July 12th 2021  12:05 PM        8 °C  0.5 dS/m   \n",
       "4   G1A0000353_ 2GFC  July 12th 2021  12:00 PM        7 °C  0.6 dS/m   \n",
       "\n",
       "  Dielectric Moisture   Latitude  Longtitude                Type  \n",
       "0      9 V/m      18% -41.138691  175.020691                 NaN  \n",
       "1      7 V/m      15% -41.139042  175.020737                 NaN  \n",
       "2      7 V/m      15% -41.135422  175.024002                 NaN  \n",
       "3      7 V/m      15% -41.137749  175.017578  Creeping Bentgrass  \n",
       "4     12 V/m      24% -41.139885  175.012894  Creeping Bentgrass  "
      ]
     },
     "execution_count": 9,
     "metadata": {},
     "output_type": "execute_result"
    }
   ],
   "source": [
    "\n",
    "\n",
    "df = pd.read_csv('Turf.csv')\n",
    "df.head()\n",
    "     \n"
   ]
  },
  {
   "cell_type": "code",
   "execution_count": null,
   "metadata": {},
   "outputs": [],
   "source": [
    "from pykrige.ok import OrdinaryKriging\n",
    "import numpy as np\n",
    "\n",
    "# Define data points\n",
    "x = [0.0, 2.0, 1.0, 3.0]\n",
    "y = [0.0, 0.0, 2.0, 1.0]\n",
    "z = [10.0, 20.0, 30.0, 40.0]\n",
    "\n",
    "# Define grid\n",
    "gridx = np.arange(0.0, 3.0, 0.5)\n",
    "gridy = np.arange(0.0, 2.0, 0.5)\n",
    "\n",
    "# Perform ordinary kriging\n",
    "OK = OrdinaryKriging(x, y, z, variogram_model='linear')\n",
    "z_interp, sigma = OK.execute('grid', gridx, gridy)\n",
    "\n",
    "# Print results\n",
    "print(z_interp)"
   ]
  },
  {
   "cell_type": "code",
   "execution_count": 10,
   "metadata": {},
   "outputs": [],
   "source": [
    "\n",
    "\n",
    "lats=df['Latitude']\n",
    "lons=df['Longtitude']"
   ]
  },
  {
   "cell_type": "code",
   "execution_count": 11,
   "metadata": {},
   "outputs": [],
   "source": [
    "df['Moisture'] = [int(s.replace(\"%\", \"\")) for s in df['Moisture']]"
   ]
  },
  {
   "cell_type": "code",
   "execution_count": 13,
   "metadata": {},
   "outputs": [],
   "source": [
    "val = df['Moisture']"
   ]
  },
  {
   "cell_type": "code",
   "execution_count": 12,
   "metadata": {},
   "outputs": [
    {
     "data": {
      "text/html": [
       "<div>\n",
       "<style scoped>\n",
       "    .dataframe tbody tr th:only-of-type {\n",
       "        vertical-align: middle;\n",
       "    }\n",
       "\n",
       "    .dataframe tbody tr th {\n",
       "        vertical-align: top;\n",
       "    }\n",
       "\n",
       "    .dataframe thead th {\n",
       "        text-align: right;\n",
       "    }\n",
       "</style>\n",
       "<table border=\"1\" class=\"dataframe\">\n",
       "  <thead>\n",
       "    <tr style=\"text-align: right;\">\n",
       "      <th></th>\n",
       "      <th>Sensor</th>\n",
       "      <th>Date</th>\n",
       "      <th>Time</th>\n",
       "      <th>Ground Temp</th>\n",
       "      <th>Salinity</th>\n",
       "      <th>Dielectric</th>\n",
       "      <th>Moisture</th>\n",
       "      <th>Latitude</th>\n",
       "      <th>Longtitude</th>\n",
       "      <th>Type</th>\n",
       "    </tr>\n",
       "  </thead>\n",
       "  <tbody>\n",
       "    <tr>\n",
       "      <th>0</th>\n",
       "      <td>G1A0000333_18GFC</td>\n",
       "      <td>July 12th 2021</td>\n",
       "      <td>11:59 AM</td>\n",
       "      <td>8 °C</td>\n",
       "      <td>0.3 dS/m</td>\n",
       "      <td>9 V/m</td>\n",
       "      <td>18</td>\n",
       "      <td>-41.138691</td>\n",
       "      <td>175.020691</td>\n",
       "      <td>NaN</td>\n",
       "    </tr>\n",
       "    <tr>\n",
       "      <th>1</th>\n",
       "      <td>G1A0000338_18GBL</td>\n",
       "      <td>July 12th 2021</td>\n",
       "      <td>12:02 PM</td>\n",
       "      <td>7 °C</td>\n",
       "      <td>0.5 dS/m</td>\n",
       "      <td>7 V/m</td>\n",
       "      <td>15</td>\n",
       "      <td>-41.139042</td>\n",
       "      <td>175.020737</td>\n",
       "      <td>NaN</td>\n",
       "    </tr>\n",
       "    <tr>\n",
       "      <th>2</th>\n",
       "      <td>G1A0000345_ 17GBC</td>\n",
       "      <td>July 12th 2021</td>\n",
       "      <td>12:02 PM</td>\n",
       "      <td>7 °C</td>\n",
       "      <td>0.3 dS/m</td>\n",
       "      <td>7 V/m</td>\n",
       "      <td>15</td>\n",
       "      <td>-41.135422</td>\n",
       "      <td>175.024002</td>\n",
       "      <td>NaN</td>\n",
       "    </tr>\n",
       "    <tr>\n",
       "      <th>3</th>\n",
       "      <td>G1A0000347_ 13GBL</td>\n",
       "      <td>July 12th 2021</td>\n",
       "      <td>12:05 PM</td>\n",
       "      <td>8 °C</td>\n",
       "      <td>0.5 dS/m</td>\n",
       "      <td>7 V/m</td>\n",
       "      <td>15</td>\n",
       "      <td>-41.137749</td>\n",
       "      <td>175.017578</td>\n",
       "      <td>Creeping Bentgrass</td>\n",
       "    </tr>\n",
       "    <tr>\n",
       "      <th>4</th>\n",
       "      <td>G1A0000353_ 2GFC</td>\n",
       "      <td>July 12th 2021</td>\n",
       "      <td>12:00 PM</td>\n",
       "      <td>7 °C</td>\n",
       "      <td>0.6 dS/m</td>\n",
       "      <td>12 V/m</td>\n",
       "      <td>24</td>\n",
       "      <td>-41.139885</td>\n",
       "      <td>175.012894</td>\n",
       "      <td>Creeping Bentgrass</td>\n",
       "    </tr>\n",
       "    <tr>\n",
       "      <th>5</th>\n",
       "      <td>G1A0000354_16GBR</td>\n",
       "      <td>July 12th 2021</td>\n",
       "      <td>12:04 PM</td>\n",
       "      <td>7 °C</td>\n",
       "      <td>0.6 dS/m</td>\n",
       "      <td>8 V/m</td>\n",
       "      <td>16</td>\n",
       "      <td>-41.131798</td>\n",
       "      <td>175.023636</td>\n",
       "      <td>Creeping Bentgrass</td>\n",
       "    </tr>\n",
       "  </tbody>\n",
       "</table>\n",
       "</div>"
      ],
      "text/plain": [
       "              Sensor            Date      Time Ground Temp  Salinity  \\\n",
       "0   G1A0000333_18GFC  July 12th 2021  11:59 AM        8 °C  0.3 dS/m   \n",
       "1   G1A0000338_18GBL  July 12th 2021  12:02 PM        7 °C  0.5 dS/m   \n",
       "2  G1A0000345_ 17GBC  July 12th 2021  12:02 PM        7 °C  0.3 dS/m   \n",
       "3  G1A0000347_ 13GBL  July 12th 2021  12:05 PM        8 °C  0.5 dS/m   \n",
       "4   G1A0000353_ 2GFC  July 12th 2021  12:00 PM        7 °C  0.6 dS/m   \n",
       "5   G1A0000354_16GBR  July 12th 2021  12:04 PM        7 °C  0.6 dS/m   \n",
       "\n",
       "  Dielectric  Moisture   Latitude  Longtitude                Type  \n",
       "0      9 V/m        18 -41.138691  175.020691                 NaN  \n",
       "1      7 V/m        15 -41.139042  175.020737                 NaN  \n",
       "2      7 V/m        15 -41.135422  175.024002                 NaN  \n",
       "3      7 V/m        15 -41.137749  175.017578  Creeping Bentgrass  \n",
       "4     12 V/m        24 -41.139885  175.012894  Creeping Bentgrass  \n",
       "5      8 V/m        16 -41.131798  175.023636  Creeping Bentgrass  "
      ]
     },
     "execution_count": 12,
     "metadata": {},
     "output_type": "execute_result"
    }
   ],
   "source": [
    "df.head(6)"
   ]
  },
  {
   "cell_type": "code",
   "execution_count": 15,
   "metadata": {},
   "outputs": [],
   "source": [
    "# Define the grid on which to interpolate\n",
    "grid_lon = np.linspace(min(lons), max(lons), 100)\n",
    "grid_lat = np.linspace(min(lats), max(lats), 100)"
   ]
  },
  {
   "cell_type": "code",
   "execution_count": 17,
   "metadata": {},
   "outputs": [],
   "source": [
    "OK = OrdinaryKriging(lons, lats, val, variogram_model='linear',\n",
    "                     verbose=False, enable_plotting=False)"
   ]
  },
  {
   "cell_type": "code",
   "execution_count": 18,
   "metadata": {},
   "outputs": [],
   "source": [
    "\n",
    "# Interpolate the grid\n",
    "z, ss = OK.execute('grid', grid_lon, grid_lat)"
   ]
  },
  {
   "cell_type": "code",
   "execution_count": 19,
   "metadata": {},
   "outputs": [
    {
     "data": {
      "image/png": "[encoded data removed]",
      "text/plain": [
       "<Figure size 432x288 with 2 Axes>"
      ]
     },
     "metadata": {
      "needs_background": "light"
     },
     "output_type": "display_data"
    }
   ],
   "source": [
    "import matplotlib.pyplot as plt\n",
    "\n",
    "# Create a heatmap of the interpolated values\n",
    "plt.imshow(z.T, origin='lower', extent=[min(grid_lon), max(grid_lon), min(grid_lat), max(grid_lat)])\n",
    "plt.colorbar()\n",
    "plt.xlabel('Longitude')\n",
    "plt.ylabel('Latitude')\n",
    "plt.title('Interpolated Heatmap')\n",
    "plt.show()"
   ]
  },
  {
   "cell_type": "markdown",
   "metadata": {},
   "source": [
    "In the imshow function call  z.T refers to the transpose of the interpolated values z.\n",
    "\n",
    "The reason for transposing z is that the imshow function expects the input to be in row-major order, while OrdinaryKriging.execute returns the interpolated values in column-major order. Transposing z flips the rows and columns, so that the values are in the correct order for imshow.\n",
    "\n",
    "By specifying origin='lower' in the imshow function call, we're indicating that the (0, 0) coordinate should be located at the bottom-left corner of the plot. This is a common convention for plotting two-dimensional arrays, with the first index (i.e., the row number) corresponding to the y-axis, and the second index (i.e., the column number) corresponding to the x-axis."
   ]
  },
  {
   "cell_type": "code",
   "execution_count": 20,
   "metadata": {},
   "outputs": [
    {
     "data": {
      "text/plain": [
       "masked_array(\n",
       "  data=[[17.833333333333435, 17.833333333333425, 17.833333333333425, ...,\n",
       "         17.833333333333353, 17.833333333333357, 17.83333333333336],\n",
       "        [17.833333333333442, 17.833333333333425, 17.833333333333417, ...,\n",
       "         17.833333333333353, 17.833333333333353, 17.833333333333357],\n",
       "        [17.83333333333343, 17.83333333333344, 17.833333333333417, ...,\n",
       "         17.83333333333335, 17.83333333333335, 17.833333333333353],\n",
       "        ...,\n",
       "        [17.833333333333396, 17.833333333333393, 17.833333333333382, ...,\n",
       "         17.83333333333333, 17.83333333333332, 17.833333333333314],\n",
       "        [17.833333333333396, 17.83333333333339, 17.833333333333393, ...,\n",
       "         17.83333333333333, 17.833333333333318, 17.83333333333331],\n",
       "        [17.8333333333334, 17.83333333333339, 17.83333333333339, ...,\n",
       "         17.83333333333332, 17.833333333333307, 17.833333333333318]],\n",
       "  mask=[[False, False, False, ..., False, False, False],\n",
       "        [False, False, False, ..., False, False, False],\n",
       "        [False, False, False, ..., False, False, False],\n",
       "        ...,\n",
       "        [False, False, False, ..., False, False, False],\n",
       "        [False, False, False, ..., False, False, False],\n",
       "        [False, False, False, ..., False, False, False]],\n",
       "  fill_value=1e+20)"
      ]
     },
     "execution_count": 20,
     "metadata": {},
     "output_type": "execute_result"
    }
   ],
   "source": [
    "z"
   ]
  },
  {
   "cell_type": "code",
   "execution_count": 21,
   "metadata": {},
   "outputs": [
    {
     "name": "stdout",
     "output_type": "stream",
     "text": [
      "[[17.833333333333435 17.833333333333425 17.833333333333425 ...\n",
      "  17.833333333333353 17.833333333333357 17.83333333333336]\n",
      " [17.833333333333442 17.833333333333425 17.833333333333417 ...\n",
      "  17.833333333333353 17.833333333333353 17.833333333333357]\n",
      " [17.83333333333343 17.83333333333344 17.833333333333417 ...\n",
      "  17.83333333333335 17.83333333333335 17.833333333333353]\n",
      " ...\n",
      " [17.833333333333396 17.833333333333393 17.833333333333382 ...\n",
      "  17.83333333333333 17.83333333333332 17.833333333333314]\n",
      " [17.833333333333396 17.83333333333339 17.833333333333393 ...\n",
      "  17.83333333333333 17.833333333333318 17.83333333333331]\n",
      " [17.8333333333334 17.83333333333339 17.83333333333339 ...\n",
      "  17.83333333333332 17.833333333333307 17.833333333333318]]\n"
     ]
    }
   ],
   "source": [
    "print(z)"
   ]
  },
  {
   "cell_type": "code",
   "execution_count": 31,
   "metadata": {},
   "outputs": [],
   "source": [
    "from pyproj import Proj"
   ]
  },
  {
   "cell_type": "code",
   "execution_count": 42,
   "metadata": {},
   "outputs": [
    {
     "name": "stderr",
     "output_type": "stream",
     "text": [
      "/home/iiitb/anaconda3/lib/python3.7/site-packages/ipykernel_launcher.py:15: DeprecationWarning: This function is deprecated. See: https://pyproj4.github.io/pyproj/stable/gotchas.html#upgrading-to-pyproj-2-from-pyproj-1\n",
      "  from ipykernel import kernelapp as app\n"
     ]
    },
    {
     "ename": "TypeError",
     "evalue": "linear_variogram_model() got an unexpected keyword argument 'maxlag'",
     "output_type": "error",
     "traceback": [
      "\u001b[0;31m---------------------------------------------------------------------------\u001b[0m",
      "\u001b[0;31mTypeError\u001b[0m                                 Traceback (most recent call last)",
      "\u001b[0;32m<ipython-input-42-8c894bb96da1>\u001b[0m in \u001b[0;36m<module>\u001b[0;34m\u001b[0m\n\u001b[1;32m     21\u001b[0m \u001b[0;31m# Use the 'linear' model to fit the experimental variogram\u001b[0m\u001b[0;34m\u001b[0m\u001b[0;34m\u001b[0m\u001b[0;34m\u001b[0m\u001b[0m\n\u001b[1;32m     22\u001b[0m \u001b[0mmaxlag\u001b[0m \u001b[0;34m=\u001b[0m \u001b[0mdistances\u001b[0m\u001b[0;34m.\u001b[0m\u001b[0mmax\u001b[0m\u001b[0;34m(\u001b[0m\u001b[0;34m)\u001b[0m\u001b[0;34m\u001b[0m\u001b[0;34m\u001b[0m\u001b[0m\n\u001b[0;32m---> 23\u001b[0;31m \u001b[0mmodel\u001b[0m \u001b[0;34m=\u001b[0m \u001b[0mvariogram_models\u001b[0m\u001b[0;34m.\u001b[0m\u001b[0mlinear_variogram_model\u001b[0m\u001b[0;34m(\u001b[0m\u001b[0mdistances\u001b[0m\u001b[0;34m.\u001b[0m\u001b[0mravel\u001b[0m\u001b[0;34m(\u001b[0m\u001b[0;34m)\u001b[0m\u001b[0;34m,\u001b[0m \u001b[0mdifferences\u001b[0m\u001b[0;34m.\u001b[0m\u001b[0mravel\u001b[0m\u001b[0;34m(\u001b[0m\u001b[0;34m)\u001b[0m\u001b[0;34m,\u001b[0m \u001b[0mmaxlag\u001b[0m\u001b[0;34m=\u001b[0m\u001b[0mmaxlag\u001b[0m\u001b[0;34m)\u001b[0m\u001b[0;34m\u001b[0m\u001b[0;34m\u001b[0m\u001b[0m\n\u001b[0m",
      "\u001b[0;31mTypeError\u001b[0m: linear_variogram_model() got an unexpected keyword argument 'maxlag'"
     ]
    }
   ],
   "source": [
    "import numpy as np\n",
    "from pykrige import variogram_models\n",
    "from pyproj import Proj, transform\n",
    "\n",
    "# Define the spatial coordinates and observed values\n",
    "lons = np.array([-122.4194, -122.4195, -122.4197, -122.4198])\n",
    "lats = np.array([37.7749, 37.7748, 37.7747, 37.7746])\n",
    "z = np.array([10.0, 15.0, 20.0, 25.0])\n",
    "\n",
    "# Define the input and output projections\n",
    "in_proj = Proj(proj='latlong', datum='WGS84')\n",
    "out_proj = Proj(proj='utm', zone='10', datum='WGS84')\n",
    "\n",
    "# Convert the lat-lon coordinates to UTM meters\n",
    "x, y = transform(in_proj, out_proj, lons, lats)\n",
    "\n",
    "# Compute the pairwise distances and differences in observed values\n",
    "distances = np.sqrt((x[:, np.newaxis] - x) ** 2 + (y[:, np.newaxis] - y) ** 2)\n",
    "differences = np.abs(z[:, np.newaxis] - z)\n",
    "\n",
    "# Use the 'linear' model to fit the experimental variogram\n",
    "maxlag = distances.max()\n",
    "model = variogram_models.linear_variogram_model(distances.ravel(), differences.ravel(), maxlag=maxlag)"
   ]
  },
  {
   "cell_type": "markdown",
   "metadata": {},
   "source": [
    "To generate a variogram from latlog data, it is generally recommended to convert the coordinates into meters. The reason for this is that the variogram measures the spatial autocorrelation between data points, which depends on the distance between them. Using latlog coordinates directly in the variogram calculation can lead to incorrect results because the distance between two latlog coordinates is not constant and depends on their location on the Earth's surface.\n",
    "\n",
    "Therefore, it is important to convert the latlog coordinates to a metric coordinate system, such as the Universal Transverse Mercator (UTM) system or a projected coordinate system, which allows for consistent distance measurements between data points. Once the latlog data has been transformed into a metric coordinate system, the variogram can be calculated using the distance between data points in meters."
   ]
  },
  {
   "cell_type": "code",
   "execution_count": null,
   "metadata": {},
   "outputs": [],
   "source": []
  },
  {
   "cell_type": "code",
   "execution_count": null,
   "metadata": {},
   "outputs": [],
   "source": [
    "z, ss = OK.execute('grid', grid_lon, grid_lat)"
   ]
  },
  {
   "cell_type": "code",
   "execution_count": null,
   "metadata": {},
   "outputs": [],
   "source": [
    "from pykrige.uk import UniversalKriging\n"
   ]
  },
  {
   "cell_type": "code",
   "execution_count": null,
   "metadata": {},
   "outputs": [],
   "source": [
    "\"\"\"\n",
    "Universal Kriging Example\n",
    "=========================\n",
    "In this example we apply a regional linear trend to the kriging system.\n",
    "\"\"\"\n",
    "\n",
    "import matplotlib.pyplot as plt\n",
    "import numpy as np\n",
    "\n",
    "from pykrige.uk import UniversalKriging\n",
    "\n",
    "data = np.array(\n",
    "    [\n",
    "        [0.3, 1.2, 0.47],\n",
    "        [1.9, 0.6, 0.56],\n",
    "        [1.1, 3.2, 0.74],\n",
    "        [3.3, 4.4, 1.47],\n",
    "        [4.7, 3.8, 1.74],\n",
    "    ]\n",
    ")\n",
    "\n",
    "gridx = np.arange(0.0, 5.5, 0.5)\n",
    "gridy = np.arange(0.0, 5.5, 0.5)\n",
    "\n",
    "###############################################################################\n",
    "# Create the universal kriging object. Required inputs are the X-coordinates of\n",
    "# the data points, the Y-coordinates of the data points, and the Z-values of the\n",
    "# data points. Variogram is handled as in the ordinary kriging case.\n",
    "# drift_terms is a list of the drift terms to include; currently supported terms\n",
    "# are 'regional_linear', 'point_log', and 'external_Z'. Refer to\n",
    "# UniversalKriging.__doc__ for more information.\n",
    "\n",
    "UK = UniversalKriging(\n",
    "    data[:, 0],\n",
    "    data[:, 1],\n",
    "    data[:, 2],\n",
    "    variogram_model=\"linear\",\n",
    "    drift_terms=[\"regional_linear\"],\n",
    ")\n",
    "\n",
    "###############################################################################\n",
    "# Creates the kriged grid and the variance grid. Allows for kriging on a rectangular\n",
    "# grid of points, on a masked rectangular grid of points, or with arbitrary points.\n",
    "# (See UniversalKriging.__doc__ for more information.)\n",
    "\n",
    "z, ss = UK.execute(\"grid\", gridx, gridy)\n",
    "plt.imshow(z)\n",
    "plt.show()"
   ]
  },
  {
   "cell_type": "code",
   "execution_count": null,
   "metadata": {},
   "outputs": [],
   "source": [
    "# -*- coding: utf-8 -*-\n",
    "\"\"\"\n",
    "Geometric example\n",
    "=================\n",
    "A small example script showing the usage of the 'geographic' coordinates type\n",
    "for ordinary kriging on a sphere.\n",
    "\"\"\"\n",
    "\n",
    "import numpy as np\n",
    "from matplotlib import pyplot as plt\n",
    "\n",
    "from pykrige.ok import OrdinaryKriging\n",
    "\n",
    "# Make this example reproducible:\n",
    "np.random.seed(89239413)\n",
    "\n",
    "# Generate random data following a uniform spatial distribution\n",
    "# of nodes and a uniform distribution of values in the interval\n",
    "# [2.0, 5.5]:\n",
    "N = 7\n",
    "lon = 360.0 * np.random.random(N)\n",
    "lat = 180.0 / np.pi * np.arcsin(2 * np.random.random(N) - 1)\n",
    "z = 3.5 * np.random.rand(N) + 2.0\n",
    "\n",
    "# Generate a regular grid with 60° longitude and 30° latitude steps:\n",
    "grid_lon = np.linspace(0.0, 360.0, 7)\n",
    "grid_lat = np.linspace(-90.0, 90.0, 7)\n",
    "\n",
    "# Create ordinary kriging object:\n",
    "OK = OrdinaryKriging(\n",
    "    lon,\n",
    "    lat,\n",
    "    z,\n",
    "    variogram_model=\"linear\",\n",
    "    verbose=False,\n",
    "    enable_plotting=False,\n",
    "    coordinates_type=\"geographic\",\n",
    ")\n",
    "\n",
    "# Execute on grid:\n",
    "z1, ss1 = OK.execute(\"grid\", grid_lon, grid_lat)\n",
    "\n",
    "# Create ordinary kriging object ignoring curvature:\n",
    "OK = OrdinaryKriging(\n",
    "    lon, lat, z, variogram_model=\"linear\", verbose=False, enable_plotting=False\n",
    ")\n",
    "\n",
    "# Execute on grid:\n",
    "z2, ss2 = OK.execute(\"grid\", grid_lon, grid_lat)\n",
    "\n",
    "###############################################################################\n",
    "# Print data at equator (last longitude index will show periodicity):\n",
    "\n",
    "print(\"Original data:\")\n",
    "print(\"Longitude:\", lon.astype(int))\n",
    "print(\"Latitude: \", lat.astype(int))\n",
    "print(\"z:        \", np.array_str(z, precision=2))\n",
    "print(\"\\nKrige at 60° latitude:\\n======================\")\n",
    "print(\"Longitude:\", grid_lon)\n",
    "print(\"Value:    \", np.array_str(z1[5, :], precision=2))\n",
    "print(\"Sigma²:   \", np.array_str(ss1[5, :], precision=2))\n",
    "print(\"\\nIgnoring curvature:\\n=====================\")\n",
    "print(\"Value:    \", np.array_str(z2[5, :], precision=2))\n",
    "print(\"Sigma²:   \", np.array_str(ss2[5, :], precision=2))\n",
    "\n",
    "###############################################################################\n",
    "# We can see that the data point at longitude 122, latitude 50 correctly\n",
    "# dominates the kriged results, since it is the closest node in spherical\n",
    "# distance metric, as longitude differences scale with cos(latitude).\n",
    "# When kriging using longitude / latitude linearly, the value for grid points\n",
    "# with longitude values further away as longitude is now incorrectly\n",
    "# weighted equally as latitude.\n",
    "\n",
    "fig, (ax1, ax2) = plt.subplots(1, 2)\n",
    "ax1.imshow(z1, extent=[0, 360, -90, 90], origin=\"lower\")\n",
    "ax1.set_title(\"geo-coordinates\")\n",
    "ax2.imshow(z2, extent=[0, 360, -90, 90], origin=\"lower\")\n",
    "ax2.set_title(\"non geo-coordinates\")\n",
    "plt.show()"
   ]
  },
  {
   "cell_type": "code",
   "execution_count": 1,
   "metadata": {},
   "outputs": [
    {
     "data": {
      "image/png": "[encoded data removed]",
      "text/plain": [
       "<Figure size 432x288 with 2 Axes>"
      ]
     },
     "metadata": {
      "needs_background": "light"
     },
     "output_type": "display_data"
    }
   ],
   "source": [
    "import numpy as np\n",
    "import matplotlib.pyplot as plt\n",
    "from pykrige import OrdinaryKriging\n",
    "\n",
    "# Define your x, y, and z data\n",
    "x = np.array([1, 2, 3, 4, 5])\n",
    "y = np.array([1, 2, 3, 4, 5])\n",
    "z = np.array([0.2, 0.3, 0.5, 0.8, 1.0])\n",
    "\n",
    "# Define the grid of points at which to estimate values\n",
    "gridx = np.linspace(0, 6, 60)\n",
    "gridy = np.linspace(0, 6, 60)\n",
    "\n",
    "# Create the kriging object\n",
    "OK = OrdinaryKriging(x, y, z, variogram_model='linear',\n",
    "                     verbose=False, enable_plotting=False)\n",
    "\n",
    "# Estimate the values at the grid points\n",
    "z_interp, sigmasq = OK.execute('grid', gridx, gridy)\n",
    "\n",
    "# Generate heatmap\n",
    "fig, ax = plt.subplots()\n",
    "im = ax.imshow(z_interp, cmap='viridis', origin='lower')\n",
    "\n",
    "# Add colorbar\n",
    "cbar = ax.figure.colorbar(im, ax=ax)\n",
    "\n",
    "# Add title and labels\n",
    "ax.set_title('Kriging Heatmap')\n",
    "ax.set_xlabel('X')\n",
    "ax.set_ylabel('Y')\n",
    "\n",
    "# Define ticks and tick labels\n",
    "xticks = np.arange(0, 60, 10)\n",
    "yticks = np.arange(0, 60, 10)\n",
    "ax.set_xticks(xticks)\n",
    "ax.set_yticks(yticks)\n",
    "ax.set_xticklabels(np.round(gridx[xticks], 2))\n",
    "ax.set_yticklabels(np.round(gridy[yticks], 2))\n",
    "\n",
    "# Rotate the tick labels and set their alignment\n",
    "plt.setp(ax.get_xticklabels(), rotation=45, ha=\"right\",\n",
    "         rotation_mode=\"anchor\")\n",
    "\n",
    "# Show the plot\n",
    "plt.show()"
   ]
  },
  {
   "cell_type": "code",
   "execution_count": 2,
   "metadata": {},
   "outputs": [],
   "source": [
    "import numpy as np\n",
    "from pykrige.ok import OrdinaryKriging\n",
    "from pykrige.uk import UniversalKriging\n",
    "from pykrige.rk import RegressionKriging"
   ]
  },
  {
   "cell_type": "code",
   "execution_count": 3,
   "metadata": {},
   "outputs": [],
   "source": [
    "# Define your x, y, and z data (where x is longitude and y is latitude)\n",
    "x = np.array([-79.3832, -79.3997, -79.4161, -79.4326, -79.449, -79.4654])\n",
    "y = np.array([43.6532, 43.6532, 43.6532, 43.6532, 43.6532, 43.6532])\n",
    "z = np.array([10, 12, 8, 15, 7, 9])"
   ]
  },
  {
   "cell_type": "code",
   "execution_count": 4,
   "metadata": {},
   "outputs": [],
   "source": [
    "# Define the grid of points at which to estimate values\n",
    "grid_lon = np.linspace(x.min(), x.max(), 100)\n",
    "grid_lat = np.linspace(y.min(), y.max(), 100)\n",
    "grid_lon, grid_lat = np.meshgrid(grid_lon, grid_lat)\n",
    "# grid_z = None  # This will be filled with the interpolated values"
   ]
  },
  {
   "cell_type": "code",
   "execution_count": 5,
   "metadata": {},
   "outputs": [],
   "source": [
    "# Create the kriging object\n",
    "OK = OrdinaryKriging(x, y, z, variogram_model='linear',\n",
    "                     verbose=False, enable_plotting=False)"
   ]
  },
  {
   "cell_type": "code",
   "execution_count": null,
   "metadata": {},
   "outputs": [],
   "source": [
    "# Estimate the values at the grid points\n",
    "grid_z, _ = OK.execute('grid', grid_lon, grid_lat)"
   ]
  },
  {
   "cell_type": "code",
   "execution_count": null,
   "metadata": {},
   "outputs": [],
   "source": [
    "import numpy as np\n",
    "from pykrige.ok import OrdinaryKriging\n",
    "from pykrige.uk import UniversalKriging\n",
    "from pykrige.rk import RegressionKriging\n",
    "\n",
    "# Define your x, y, and z data (where x is longitude and y is latitude)\n",
    "x = np.array([-79.3832, -79.3997, -79.4161, -79.4326, -79.449, -79.4654])\n",
    "y = np.array([43.6532, 43.6532, 43.6532, 43.6532, 43.6532, 43.6532])\n",
    "z = np.array([10, 12, 8, 15, 7, 9])\n",
    "\n",
    "# Define the grid of points at which to estimate values\n",
    "grid_lon = np.linspace(x.min(), x.max(), 100)\n",
    "grid_lat = np.linspace(y.min(), y.max(), 100)\n",
    "grid_lon, grid_lat = np.meshgrid(grid_lon, grid_lat)\n",
    "grid_z = None  # This will be filled with the interpolated values\n",
    "\n",
    "# Create the kriging object\n",
    "OK = OrdinaryKriging(x, y, z, variogram_model='linear',\n",
    "                     verbose=False, enable_plotting=False)\n",
    "\n",
    "# Estimate the values at the grid points\n",
    "grid_z, _ = OK.execute('grid', grid_lon, grid_lat)\n",
    "\n",
    "# Reshape the interpolated values to match the shape of the grid\n",
    "grid_z = grid_z.reshape(grid_lon.shape)\n",
    "\n",
    "# Display the interpolated values using matplotlib\n",
    "import matplotlib.pyplot as plt\n",
    "fig, ax = plt.subplots()\n",
    "im = ax.imshow(grid_z, cmap='viridis', origin='lower')\n",
    "\n",
    "# Add colorbar\n",
    "cbar = ax.figure.colorbar(im, ax=ax)\n",
    "\n",
    "# Add title and labels\n",
    "ax.set_title('Kriging Heatmap')\n",
    "ax.set_xlabel('Longitude')\n",
    "ax.set_ylabel('Latitude')\n",
    "\n",
    "# Define ticks and tick labels\n",
    "xticks = np.linspace(x.min(), x.max(), 5)\n",
    "yticks = np.linspace(y.min(), y.max(), 5)\n",
    "ax.set_xticks(xticks)\n",
    "ax.set_yticks(yticks)\n",
    "\n",
    "# Show the plot\n",
    "plt.show()"
   ]
  },
  {
   "cell_type": "code",
   "execution_count": null,
   "metadata": {},
   "outputs": [],
   "source": [
    "from pykrige.core import Universal, _get_variogram_func\n"
   ]
  },
  {
   "cell_type": "code",
   "execution_count": null,
   "metadata": {},
   "outputs": [],
   "source": [
    "from pykrige.uk import UniversalKriging\n",
    "from pykrige.core import Universal, _get_variogram_func\n",
    "import numpy as np\n",
    "\n",
    "# Define data points\n",
    "x = [0.0, 2.0, 1.0, 3.0]\n",
    "y = [0.0, 0.0, 2.0, 1.0]\n",
    "z = [10.0, 20.0, 30.0, 40.0]\n",
    "\n",
    "# Define grid\n",
    "gridx = np.arange(0.0, 3.0, 0.5)\n",
    "gridy = np.arange(0.0, 2.0, 0.5)\n",
    "\n",
    "# Define variogram model\n",
    "variogram_model = 'linear'\n",
    "variogram_function = _get_variogram_func(variogram_model)\n",
    "variogram_parameters = Universal.variogram_model_parameters(variogram_model, x, y, z)\n",
    "\n",
    "# Perform universal kriging\n",
    "UK = UniversalKriging(x, y, z, variogram_model=variogram_model, variogram_parameters=variogram_parameters)\n",
    "z_interp, sigma = UK.execute('grid', gridx, gridy)\n",
    "\n",
    "# Print results\n",
    "print(z_interp)"
   ]
  },
  {
   "cell_type": "code",
   "execution_count": null,
   "metadata": {},
   "outputs": [],
   "source": [
    "import pandas as pd\n",
    "import numpy as np\n",
    "import matplotlib.pyplot as plt\n",
    "%matplotlib inline\n",
    "import seaborn as sns\n",
    "import os\n",
    "import warnings\n",
    "warnings.filterwarnings('ignore')"
   ]
  },
  {
   "cell_type": "markdown",
   "metadata": {},
   "source": [
    "***Set the appropriate directories***"
   ]
  },
  {
   "cell_type": "code",
   "execution_count": null,
   "metadata": {},
   "outputs": [],
   "source": [
    "!pwd"
   ]
  },
  {
   "cell_type": "code",
   "execution_count": null,
   "metadata": {},
   "outputs": [],
   "source": [
    "os.getcwd()"
   ]
  },
  {
   "cell_type": "markdown",
   "metadata": {},
   "source": [
    "***Load the dataset***"
   ]
  },
  {
   "cell_type": "code",
   "execution_count": null,
   "metadata": {},
   "outputs": [],
   "source": [
    "os.chdir('/home/iiitb/Teaching/ST2DA/code/time-series-forecasting-airline-passenger-traffic-main')"
   ]
  },
  {
   "cell_type": "code",
   "execution_count": null,
   "metadata": {},
   "outputs": [],
   "source": [
    "data = pd.read_csv('airline-passenger-traffic.csv', header=None)\n",
    "data.columns = ['Month', 'Passengers']\n",
    "data['Month'] = pd.to_datetime(data['Month'], format='%Y-%m')\n",
    "data = data.set_index('Month')\n",
    "data.head()"
   ]
  },
  {
   "cell_type": "code",
   "execution_count": null,
   "metadata": {},
   "outputs": [],
   "source": [
    "data.describe()"
   ]
  },
  {
   "cell_type": "markdown",
   "metadata": {},
   "source": [
    "# New heading"
   ]
  },
  {
   "cell_type": "markdown",
   "metadata": {},
   "source": [
    "# Time Series Analysis"
   ]
  },
  {
   "cell_type": "markdown",
   "metadata": {},
   "source": [
    "## Plot time series data"
   ]
  },
  {
   "cell_type": "code",
   "execution_count": null,
   "metadata": {},
   "outputs": [],
   "source": [
    "data.plot(figsize=(12,4))"
   ]
  },
  {
   "cell_type": "markdown",
   "metadata": {},
   "source": [
    "## Handling missing values"
   ]
  },
  {
   "cell_type": "markdown",
   "metadata": {},
   "source": [
    "### Mean imputation"
   ]
  },
  {
   "cell_type": "code",
   "execution_count": null,
   "metadata": {},
   "outputs": [],
   "source": [
    "#data = data.assign(Passengers_zero_imputation = data['Passengers'].fillna(data['Passengers'].(0))))\n",
    "# data['Passengers_zero_imputation'].plot(figsize=(12,4))\n",
    "zero_impute = pd.DataFrame(data)\n",
    "# zero_impute = data['Passengers']"
   ]
  },
  {
   "cell_type": "code",
   "execution_count": null,
   "metadata": {},
   "outputs": [],
   "source": [
    "zero_impute.describe()"
   ]
  },
  {
   "cell_type": "code",
   "execution_count": null,
   "metadata": {},
   "outputs": [],
   "source": [
    "zero_impute.isnull().values.any()"
   ]
  },
  {
   "cell_type": "code",
   "execution_count": null,
   "metadata": {},
   "outputs": [],
   "source": [
    "zero_impute.isnull().sum().sum()"
   ]
  },
  {
   "cell_type": "code",
   "execution_count": null,
   "metadata": {},
   "outputs": [],
   "source": [
    "print(zero_impute.head())"
   ]
  },
  {
   "cell_type": "code",
   "execution_count": null,
   "metadata": {},
   "outputs": [],
   "source": [
    "list(zero_impute.columns)"
   ]
  },
  {
   "cell_type": "code",
   "execution_count": null,
   "metadata": {},
   "outputs": [],
   "source": [
    "zero_impute['Passengers'] = zero_impute['Passengers'].fillna(0)"
   ]
  },
  {
   "cell_type": "code",
   "execution_count": null,
   "metadata": {},
   "outputs": [],
   "source": [
    "\n",
    "#zero_impute['Passengers'].fillna(0)\n",
    "zero_impute['Passengers'].plot(figsize=(12,4))"
   ]
  },
  {
   "cell_type": "code",
   "execution_count": null,
   "metadata": {
    "scrolled": true
   },
   "outputs": [],
   "source": [
    "data = data.assign(Passengers_Mean_imputation = data['Passengers'].fillna(data['Passengers'].mean()))\n",
    "data['Passengers_Mean_imputation'].plot(figsize=(12,4))\n"
   ]
  },
  {
   "cell_type": "markdown",
   "metadata": {},
   "source": [
    "##### Problem:-\n",
    "Replace the missing value with the mean of the remaining values\n",
    "It can be observed that 1952 takes higher values than expected.\n",
    "and 1960 takes lower value than expected."
   ]
  },
  {
   "cell_type": "markdown",
   "metadata": {},
   "source": [
    "### Linear interpolation\n",
    "Fit a straight line to  the next and previous points of the missing values in the data."
   ]
  },
  {
   "cell_type": "code",
   "execution_count": null,
   "metadata": {},
   "outputs": [],
   "source": [
    "data = data.assign(Passengers_Linear_Interpolation = data['Passengers'].interpolate(method='linear'))\n",
    "data.head()"
   ]
  },
  {
   "cell_type": "code",
   "execution_count": null,
   "metadata": {
    "scrolled": true
   },
   "outputs": [],
   "source": [
    "data['Passengers_Linear_Interpolation'].plot(figsize=(12,4))"
   ]
  },
  {
   "cell_type": "markdown",
   "metadata": {},
   "source": [
    "We shal go with the linear interpolation for imputing missing values."
   ]
  },
  {
   "cell_type": "markdown",
   "metadata": {},
   "source": [
    "## Outlier detection"
   ]
  },
  {
   "cell_type": "markdown",
   "metadata": {},
   "source": [
    "### Box plot and interquartile range"
   ]
  },
  {
   "cell_type": "code",
   "execution_count": null,
   "metadata": {},
   "outputs": [],
   "source": [
    "fig = plt.subplots(figsize=(12,2))\n",
    "ax = sns.boxplot(data['Passengers'], whis=1.5)"
   ]
  },
  {
   "cell_type": "markdown",
   "metadata": {},
   "source": [
    "#### whis=1.5\n",
    "\n",
    "1st quartile = 180\n",
    "\n",
    "3rd quartile = 360\n",
    "\n",
    "Quartile range = (3rd quartile - 1st quartile) = 360-180 = 180\n",
    "\n",
    "***Whisker on the upper side***\n",
    "\n",
    "3rd quartile + (Quartile range * whis) = 360 + (180 * 1.5) = 360 + 270 = 630\n",
    "\n",
    "There is no outliers above the whisker 630.\n",
    "\n",
    "***Whisker on th lower side***\n",
    "\n",
    "1st quartile - (Quartile range * whis) = 180 - (180 * 1.5) = -90\n",
    "\n",
    "There is no outliers on the negative side of the lower whisker."
   ]
  },
  {
   "cell_type": "code",
   "execution_count": null,
   "metadata": {},
   "outputs": [],
   "source": [
    "fig = plt.subplots(figsize=(12,2))\n",
    "ax = sns.boxplot(data['Passengers'], whis=1)"
   ]
  },
  {
   "cell_type": "markdown",
   "metadata": {},
   "source": [
    "#### whis=1\n",
    "\n",
    "1st quartile = 180\n",
    "\n",
    "3rd quartile = 360\n",
    "\n",
    "Quartile range = (3rd quartile - 1st quartile) = 360-180 = 180\n",
    "\n",
    "***Whisker on the upper side***\n",
    "\n",
    "3rd quartile + (Quartile range * whis) = 360 + (180 * 1) = 360 + 180 = 540\n",
    "\n",
    "There are 4 outliers above the whisker 540.\n"
   ]
  },
  {
   "cell_type": "markdown",
   "metadata": {},
   "source": [
    "#### Conclusion for selecting whis = 1.5\n",
    "\n",
    "So from the above analysis of whis 1 and 1.5, we should select the whis=1.5 quartile range. Because we don't want to miss any of the data in this time series analysis."
   ]
  },
  {
   "cell_type": "markdown",
   "metadata": {},
   "source": [
    "### Histogram plot"
   ]
  },
  {
   "cell_type": "code",
   "execution_count": null,
   "metadata": {},
   "outputs": [],
   "source": [
    "data['Passengers'].hist(figsize=(12,4))"
   ]
  },
  {
   "cell_type": "markdown",
   "metadata": {},
   "source": [
    "1. It can be observed that the frequency of the number of passengern are continious. \n",
    "2. As the number of passengers increases, the frequency of that number of passengers decreases. However they are not outliers"
   ]
  },
  {
   "cell_type": "markdown",
   "metadata": {},
   "source": [
    "##### Conclusion\n",
    "There is no outliers detected."
   ]
  },
  {
   "cell_type": "markdown",
   "metadata": {},
   "source": [
    "#### Dropping redundant columns\n",
    "1. Dropping Passengers_Mean_imputation and Passengers columns since mean imputation did not help\n",
    "2. Renaming the Passengers_Linear_Interpolation column to Passengers column for further processing\n",
    "\n",
    "We will only work with the Linear interpolation imputation."
   ]
  },
  {
   "cell_type": "code",
   "execution_count": null,
   "metadata": {},
   "outputs": [],
   "source": [
    "data.head()"
   ]
  },
  {
   "cell_type": "code",
   "execution_count": null,
   "metadata": {},
   "outputs": [],
   "source": [
    "data = data.drop(['Passengers', 'Passengers_Mean_imputation'], axis=1)"
   ]
  },
  {
   "cell_type": "code",
   "execution_count": null,
   "metadata": {},
   "outputs": [],
   "source": [
    "data.rename(columns={'Passengers_Linear_Interpolation' : 'Passengers'}, inplace=True)"
   ]
  },
  {
   "cell_type": "code",
   "execution_count": null,
   "metadata": {},
   "outputs": [],
   "source": [
    "data.head()"
   ]
  },
  {
   "cell_type": "markdown",
   "metadata": {},
   "source": [
    "## Time series decomposition"
   ]
  },
  {
   "cell_type": "markdown",
   "metadata": {},
   "source": [
    "### Additive seasonal decomposition"
   ]
  },
  {
   "cell_type": "code",
   "execution_count": null,
   "metadata": {},
   "outputs": [],
   "source": [
    "from pylab import rcParams\n",
    "import statsmodels.api as sm\n",
    "rcParams['figure.figsize'] = 12,8\n",
    "decomposition = sm.tsa.seasonal_decompose(data['Passengers'], model='additive')\n",
    "fig = decomposition.plot()\n",
    "plt.show()"
   ]
  },
  {
   "cell_type": "markdown",
   "metadata": {},
   "source": [
    "An additive trend indicates a linear trend, and an additive seasonality indicates \n",
    "the same frequency (width) and amplitude (height) of seasonal cycles."
   ]
  },
  {
   "cell_type": "markdown",
   "metadata": {},
   "source": [
    "#### Analysis:-\n",
    "1. ***Observed*** - Actual data\n",
    "2. ***Trend*** - Increasing or decreasing trend.\n",
    "3. ***Seasonal*** - \n",
    "    - Varies from +50 to -50 with the mean 0. \n",
    "    - Each cycle represents each year trend.\n",
    "    - The value in the Y-axis has to be `added` to the Trend plot value to get the actual value of that year. E.g.:- For the year 1950 Nov, the seasonal value is +50 and the trend value is 100. Hence, teh actual value(passengers number) will (seasonal+Trend) value = 50+100 = 150.\n",
    "4. ***Residual*** - It is the noise pattern of the time series data for each year, which was not captured by the two components - Trend and Seasonality. Residual is the left over after decomposition of the two major components (Trend and Seasonality)\n"
   ]
  },
  {
   "cell_type": "markdown",
   "metadata": {},
   "source": [
    "### Multiplicative seasonal decomposition"
   ]
  },
  {
   "cell_type": "code",
   "execution_count": null,
   "metadata": {},
   "outputs": [],
   "source": [
    "decomposition = sm.tsa.seasonal_decompose(data['Passengers'], model='multiplicative')\n",
    "fig = decomposition.plot()\n",
    "plt.show()"
   ]
  },
  {
   "cell_type": "markdown",
   "metadata": {},
   "source": [
    "A multiplicative trend indicates a non-linear trend (curved trend line), and a multiplicative seasonality indicates increasing/decreasing\n",
    "frequency (width) and/or amplitude (height) of seasonal cycles."
   ]
  },
  {
   "cell_type": "markdown",
   "metadata": {},
   "source": [
    "#### Analysis:-\n",
    "\n",
    "***Seasonal*** - \n",
    "1. Varies from 0.8 to 1.2 \n",
    "2. The value in the Y-axis has to be `multiplied` to the Trend plot value to get the actual value of that year. E.g.:- For the year 1950 Nov, the seasonal value is `1.2` and the trend value is `100`. Hence, the actual value(passengers number) will (seasonal X Trend) value = 1.2 X 100 = 120.\n"
   ]
  },
  {
   "cell_type": "markdown",
   "metadata": {},
   "source": [
    "Ref:\n",
    "    https://github.com/sahidul-shaikh/time-series-forecasting-airline-passenger-traffic\n",
    "\n",
    "    https://medium.com/enjoy-algorithm/pre-processing-of-time-series-data-c50f8a3e7a98"
   ]
  },
  {
   "cell_type": "code",
   "execution_count": null,
   "metadata": {},
   "outputs": [],
   "source": []
  },
  {
   "cell_type": "code",
   "execution_count": 45,
   "metadata": {},
   "outputs": [
    {
     "name": "stderr",
     "output_type": "stream",
     "text": [
      "/home/iiitb/anaconda3/lib/python3.7/site-packages/ipykernel_launcher.py:15: DeprecationWarning: This function is deprecated. See: https://pyproj4.github.io/pyproj/stable/gotchas.html#upgrading-to-pyproj-2-from-pyproj-1\n",
      "  from ipykernel import kernelapp as app\n"
     ]
    },
    {
     "ename": "AttributeError",
     "evalue": "module 'skgstat' has no attribute 'Whittle'",
     "output_type": "error",
     "traceback": [
      "\u001b[0;31m---------------------------------------------------------------------------\u001b[0m",
      "\u001b[0;31mAttributeError\u001b[0m                            Traceback (most recent call last)",
      "\u001b[0;32m<ipython-input-45-b65c26036f39>\u001b[0m in \u001b[0;36m<module>\u001b[0;34m\u001b[0m\n\u001b[1;32m     23\u001b[0m \u001b[0;34m\u001b[0m\u001b[0m\n\u001b[1;32m     24\u001b[0m \u001b[0;31m# Fit a linear model to the empirical variogram\u001b[0m\u001b[0;34m\u001b[0m\u001b[0;34m\u001b[0m\u001b[0;34m\u001b[0m\u001b[0m\n\u001b[0;32m---> 25\u001b[0;31m \u001b[0mmodel\u001b[0m \u001b[0;34m=\u001b[0m \u001b[0mskg\u001b[0m\u001b[0;34m.\u001b[0m\u001b[0mWhittle\u001b[0m\u001b[0;34m(\u001b[0m\u001b[0mdim\u001b[0m\u001b[0;34m=\u001b[0m\u001b[0;36m2\u001b[0m\u001b[0;34m)\u001b[0m\u001b[0;34m\u001b[0m\u001b[0;34m\u001b[0m\u001b[0m\n\u001b[0m\u001b[1;32m     26\u001b[0m \u001b[0mmodel\u001b[0m\u001b[0;34m.\u001b[0m\u001b[0mfit\u001b[0m\u001b[0;34m(\u001b[0m\u001b[0memp_variogram\u001b[0m\u001b[0;34m.\u001b[0m\u001b[0mlags\u001b[0m\u001b[0;34m,\u001b[0m \u001b[0memp_variogram\u001b[0m\u001b[0;34m.\u001b[0m\u001b[0mexperimental\u001b[0m\u001b[0;34m)\u001b[0m\u001b[0;34m\u001b[0m\u001b[0;34m\u001b[0m\u001b[0m\n\u001b[1;32m     27\u001b[0m \u001b[0;34m\u001b[0m\u001b[0m\n",
      "\u001b[0;31mAttributeError\u001b[0m: module 'skgstat' has no attribute 'Whittle'"
     ]
    }
   ],
   "source": [
    "import numpy as np\n",
    "import skgstat as skg\n",
    "from pyproj import Proj, transform\n",
    "\n",
    "# Define the spatial coordinates and observed values\n",
    "lons = np.array([-122.4194, -122.4195, -122.4197, -122.4198])\n",
    "lats = np.array([37.7749, 37.7748, 37.7747, 37.7746])\n",
    "z = np.array([10.0, 15.0, 20.0, 25.0])\n",
    "\n",
    "# Define the input and output projections\n",
    "in_proj = Proj(proj='latlong', datum='WGS84')\n",
    "out_proj = Proj(proj='utm', zone='10', datum='WGS84')\n",
    "\n",
    "# Convert the lat-lon coordinates to UTM meters\n",
    "x, y = transform(in_proj, out_proj, lons, lats)\n",
    "\n",
    "# Compute the pairwise distances and differences in observed values\n",
    "distances = np.sqrt((x[:, np.newaxis] - x) ** 2 + (y[:, np.newaxis] - y) ** 2)\n",
    "differences = np.abs(z[:, np.newaxis] - z)\n",
    "\n",
    "# Compute the empirical variogram\n",
    "emp_variogram = skg.Variogram(coordinates=np.column_stack((x, y)), values=z, normalize=False, maxlag=distances.max())\n",
    "\n",
    "# Fit a linear model to the empirical variogram\n",
    "model = skg.Whittle(dim=2)\n",
    "model.fit(emp_variogram.lags, emp_variogram.experimental)\n",
    "\n",
    "# Print the model parameters\n",
    "print(model)"
   ]
  },
  {
   "cell_type": "code",
   "execution_count": null,
   "metadata": {},
   "outputs": [],
   "source": []
  }
 ],
 "metadata": {
  "hide_input": false,
  "kernelspec": {
   "display_name": "Python 3",
   "language": "python",
   "name": "python3"
  },
  "language_info": {
   "codemirror_mode": {
    "name": "ipython",
    "version": 3
   },
   "file_extension": ".py",
   "mimetype": "text/x-python",
   "name": "python",
   "nbconvert_exporter": "python",
   "pygments_lexer": "ipython3",
   "version": "3.7.12"
  },
  "latex_envs": {
   "LaTeX_envs_menu_present": true,
   "autoclose": false,
   "autocomplete": true,
   "bibliofile": "biblio.bib",
   "cite_by": "apalike",
   "current_citInitial": 1,
   "eqLabelWithNumbers": true,
   "eqNumInitial": 1,
   "hotkeys": {
    "equation": "Ctrl-E",
    "itemize": "Ctrl-I"
   },
   "labels_anchors": false,
   "latex_user_defs": false,
   "report_style_numbering": false,
   "user_envs_cfg": false
  },
  "toc": {
   "base_numbering": 1,
   "nav_menu": {},
   "number_sections": true,
   "sideBar": true,
   "skip_h1_title": false,
   "title_cell": "Table of Contents",
   "title_sidebar": "Contents",
   "toc_cell": false,
   "toc_position": {},
   "toc_section_display": true,
   "toc_window_display": false
  },
  "varInspector": {
   "cols": {
    "lenName": 16,
    "lenType": 16,
    "lenVar": 40
   },
   "kernels_config": {
    "python": {
     "delete_cmd_postfix": "",
     "delete_cmd_prefix": "del ",
     "library": "var_list.py",
     "varRefreshCmd": "print(var_dic_list())"
    },
    "r": {
     "delete_cmd_postfix": ") ",
     "delete_cmd_prefix": "rm(",
     "library": "var_list.r",
     "varRefreshCmd": "cat(var_dic_list()) "
    }
   },
   "types_to_exclude": [
    "module",
    "function",
    "builtin_function_or_method",
    "instance",
    "_Feature"
   ],
   "window_display": false
  }
 },
 "nbformat": 4,
 "nbformat_minor": 2
}
